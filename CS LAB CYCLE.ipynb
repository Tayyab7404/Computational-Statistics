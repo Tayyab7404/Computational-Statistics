{
 "cells": [
  {
   "cell_type": "markdown",
   "id": "6bb84464",
   "metadata": {},
   "source": [
    "## Functions, Import Statements:"
   ]
  },
  {
   "cell_type": "code",
   "execution_count": 33,
   "id": "208dc838",
   "metadata": {},
   "outputs": [],
   "source": [
    "import matplotlib.pyplot as plt\n",
    "import numpy as np\n",
    "import math\n",
    "import scipy.stats as ss\n",
    "import pandas as pd\n",
    "\n",
    "def mylen(data):\n",
    "    size = 0\n",
    "    for i in data:\n",
    "        size = size + 1\n",
    "    return size\n",
    "\n",
    "def mysum(data):\n",
    "    s = 0\n",
    "    for i in data:\n",
    "        s = s + i\n",
    "    return s\n",
    "\n",
    "def mymean(data):\n",
    "    Sum = 0\n",
    "    for i in data:\n",
    "        Sum = Sum + i\n",
    "    return Sum/mylen(data)\n",
    "\n",
    "def DET(matrix):\n",
    "    Sum = 0\n",
    "    \n",
    "    Sum = Sum + matrix[0][0] * (matrix[1][1]*matrix[2][2] - matrix[2][1]*matrix[1][2])\n",
    "    Sum = Sum - matrix[0][1] * (matrix[1][0]*matrix[2][2] - matrix[2][0]*matrix[1][2])\n",
    "    Sum = Sum + matrix[0][2] * (matrix[1][0]*matrix[2][1] - matrix[2][0]*matrix[1][1])\n",
    "    \n",
    "    return Sum\n",
    "\n",
    "def drawPlotParabola(x, y, Ycal):\n",
    "    plt.plot(x, y)\n",
    "    plt.xlabel('x - axis')\n",
    "    plt.ylabel('y - axis')\n",
    "    plt.title('Parabola Regression')\n",
    "    plt.show()\n",
    "\n",
    "    plt.plot(x, Ycal)\n",
    "    plt.xlabel('x - axis')\n",
    "    plt.ylabel('y - axis')\n",
    "    plt.title(\"Best Fit\")\n",
    "    plt.show()\n",
    "\n",
    "def drawPlotLine(x, y, Ycal):\n",
    "    plt.plot(x, y)\n",
    "    plt.xlabel('x - axis')\n",
    "    plt.ylabel('y - axis')\n",
    "    plt.title('Linear Regression')\n",
    "    plt.show()\n",
    "\n",
    "    plt.plot(x, Ycal)\n",
    "    plt.xlabel('x - axis')\n",
    "    plt.ylabel('y - axis')\n",
    "    plt.title(\"Best Fit\")\n",
    "    plt.show()\n",
    "    \n",
    "def CovXY(x, y):\n",
    "    n = mylen(x)\n",
    "    meanX = mymean(x)\n",
    "    meanY = mymean(y)\n",
    "    \n",
    "    SumXY = mysum(np.multiply(x, y))\n",
    "    \n",
    "    CovXY = SumXY/n - meanX*meanY\n",
    "    \n",
    "    return CovXY\n",
    "    \n",
    "def SD(x):\n",
    "    n = mylen(x)\n",
    "    meanx = mymean(x)\n",
    "    \n",
    "    Sumx2 = mysum(np.multiply(x, x))\n",
    "    \n",
    "    Var = Sumx2/n - meanx**2\n",
    "    \n",
    "    return math.sqrt(Var)"
   ]
  },
  {
   "cell_type": "markdown",
   "id": "f7ff4e89",
   "metadata": {},
   "source": [
    "## WEEK 1:"
   ]
  },
  {
   "cell_type": "code",
   "execution_count": 7,
   "id": "466464c4",
   "metadata": {},
   "outputs": [
    {
     "name": "stdout",
     "output_type": "stream",
     "text": [
      "X values:  [1 2 3 4 5 6 7 8 9]\n",
      "Y values:  [10 20 30 40 50 60 70 80 90]\n",
      "Slope (m):  10.0\n",
      "Constant (c):  0.0\n",
      "Y Calculated values:  [10. 20. 30. 40. 50. 60. 70. 80. 90.]\n",
      "The Linear Regression Line for the given data:\n",
      "Y = 10.0X + 0.0\n",
      "Sum of Squares due to Total:  6000.0\n",
      "Sum of Squares due to Treatments:  6000.0\n",
      "Sum of Squares due to Error:  0.0\n",
      "R Square value:  1.0\n"
     ]
    },
    {
     "data": {
      "image/png": "[encoded data removed]",
      "text/plain": [
       "<Figure size 432x288 with 1 Axes>"
      ]
     },
     "metadata": {
      "needs_background": "light"
     },
     "output_type": "display_data"
    },
    {
     "data": {
      "image/png": "[encoded data removed]",
      "text/plain": [
       "<Figure size 432x288 with 1 Axes>"
      ]
     },
     "metadata": {
      "needs_background": "light"
     },
     "output_type": "display_data"
    },
    {
     "name": "stdout",
     "output_type": "stream",
     "text": [
      "The Y Calculated values is the best fit for the given data\n"
     ]
    }
   ],
   "source": [
    "# Straight Line Best Fit:\n",
    "\n",
    "def LinearRegression(x, y):\n",
    "    n = mylen(x)\n",
    "    m = mylen(y)\n",
    "    \n",
    "    if n != m:\n",
    "        print(\"Invalid Data!\")\n",
    "        return\n",
    "    \n",
    "    slope = (n*mysum(np.multiply(x,y)) - mysum(x)*mysum(y)) / (n*mysum(np.multiply(x,x)) - mysum(x)**2)\n",
    "    \n",
    "    constant = (mysum(y) - slope*mysum(x)) / n\n",
    "    \n",
    "    Ycal = np.add(np.multiply(slope,x),constant)\n",
    "    \n",
    "    meanY = mymean(y)\n",
    "    \n",
    "    SST = mysum(np.array([(i-meanY)**2 for i in y]))\n",
    "    SSE = mysum(np.multiply(np.subtract(y, Ycal),np.subtract(y, Ycal)))\n",
    "    SSR = mysum(np.array([(i-meanY)**2 for i in Ycal]))\n",
    "    \n",
    "    Rsq = SSR/SST\n",
    "    # Rsq = 1 - SSE/SST\n",
    "    \n",
    "    print(\"X values: \",x)\n",
    "    print(\"Y values: \",y)\n",
    "    print(\"Slope (m): \",slope)\n",
    "    print(\"Constant (c): \",constant)\n",
    "    print(\"Y Calculated values: \",Ycal)\n",
    "    print(\"The Linear Regression Line for the given data:\")\n",
    "    print(f\"Y = {slope}X + {constant}\")\n",
    "    print(\"Sum of Squares due to Total: \",SST)\n",
    "    print(\"Sum of Squares due to Treatments: \",SSR)\n",
    "    print(\"Sum of Squares due to Error: \",SSE)\n",
    "    print(\"R Square value: \",Rsq)\n",
    "    \n",
    "    drawPlotLine(x, y, Ycal)\n",
    "    \n",
    "    if Rsq > 0.9:\n",
    "        print(\"The Y Calculated values is the best fit for the given data\")\n",
    "    else:\n",
    "        print(\"The Y Calculated values is not the best fit for the given data\")\n",
    "        \n",
    "x = np.array([float(i) for i in input(\"Enter x values: \").strip().split()])\n",
    "y = np.array([float(i) for i in input(\"Enter y values: \").strip().split()])\n",
    "\n",
    "# x = np.array([1,2,3,4,5,6,7,8,9])\n",
    "# y = np.array([10,20,30,40,50,60,70,80,90])\n",
    "\n",
    "LinearRegression(x, y)"
   ]
  },
  {
   "cell_type": "markdown",
   "id": "d7b5330a",
   "metadata": {},
   "source": [
    "## WEEK 2:"
   ]
  },
  {
   "cell_type": "code",
   "execution_count": 18,
   "id": "0dfb0569",
   "metadata": {},
   "outputs": [
    {
     "name": "stdout",
     "output_type": "stream",
     "text": [
      "X values:  [ 2  4  6  8 10]\n",
      "Y values:  [ 3.07 12.85 31.47 57.38 91.29]\n",
      "a =  0.6959999999984368\n",
      "b =  -0.8550714285712041\n",
      "c =  0.991964285714291\n",
      "Y Calculated values:  [ 2.95371429 13.14714286 31.27628571 57.34114286 91.34171429]\n",
      "The Parabola Regression Line for the given data: \n",
      "Y = 0.6959999999984368 + -0.8550714285712041X + 0.991964285714291X2\n",
      "Sum of Squares due to Total:  5103.33208\n",
      "Sum of Squares due to Treatments:  5103.188554285969\n",
      "Sum of Squares due to Error:  0.14352571428571234\n",
      "R Square value:  0.9999718760778681\n"
     ]
    },
    {
     "data": {
      "image/png": "[encoded data removed]",
      "text/plain": [
       "<Figure size 432x288 with 1 Axes>"
      ]
     },
     "metadata": {
      "needs_background": "light"
     },
     "output_type": "display_data"
    },
    {
     "data": {
      "image/png": "[encoded data removed]",
      "text/plain": [
       "<Figure size 432x288 with 1 Axes>"
      ]
     },
     "metadata": {
      "needs_background": "light"
     },
     "output_type": "display_data"
    },
    {
     "name": "stdout",
     "output_type": "stream",
     "text": [
      "The Y Calculated values is the best fit for the given data\n"
     ]
    }
   ],
   "source": [
    "# Parabola Best Fit:\n",
    "\n",
    "def ParabolaRegression(x, y):\n",
    "    n = mylen(x)\n",
    "    m = mylen(y)\n",
    "\n",
    "    if n != m:\n",
    "        print(\"Invalid Data: \")\n",
    "        return\n",
    "    \n",
    "    x2 = np.multiply(x, x)\n",
    "    x3 = np.multiply(x2, x)\n",
    "    x4 = np.multiply(x3, x)\n",
    "    xy = np.multiply(x, y)\n",
    "    x2y = np.multiply(x2, y)\n",
    "    \n",
    "    Sumx = mysum(x)\n",
    "    Sumx2 = mysum(x2)\n",
    "    Sumx3 = mysum(x3)\n",
    "    Sumx4 = mysum(x4)\n",
    "    Sumy = mysum(y)\n",
    "    Sumxy = mysum(xy)\n",
    "    Sumx2y = mysum(x2y)\n",
    "    \n",
    "    delta  = DET([[n, Sumx, Sumx2],\n",
    "                  [Sumx, Sumx2, Sumx3],\n",
    "                  [Sumx2, Sumx3, Sumx4]])\n",
    "                  \n",
    "    delta1 = DET([[Sumy, Sumx, Sumx2],\n",
    "                  [Sumxy, Sumx2, Sumx3],\n",
    "                  [Sumx2y, Sumx3, Sumx4]])\n",
    "                  \n",
    "    delta2 = DET([[n, Sumy, Sumx2],\n",
    "                  [Sumx, Sumxy, Sumx3],\n",
    "                  [Sumx2, Sumx2y, Sumx4]])\n",
    "                  \n",
    "    delta3 = DET([[n, Sumx, Sumy],\n",
    "                  [Sumx, Sumx2, Sumxy],\n",
    "                  [Sumx2, Sumx3, Sumx2y]])\n",
    "    \n",
    "    a = delta1 / delta\n",
    "    b = delta2 / delta\n",
    "    c = delta3 / delta\n",
    "    \n",
    "    Ycal = np.add(a, np.add(np.multiply(b, x), np.multiply(c, x2)))\n",
    "    \n",
    "    meanY = mymean(y)\n",
    "    \n",
    "    SST = mysum(np.array([(i-meanY)**2 for i in y]))\n",
    "    SSE = mysum(np.multiply(np.subtract(y, Ycal),np.subtract(y, Ycal)))\n",
    "    SSR = mysum(np.array([(i-meanY)**2 for i in Ycal]))\n",
    "    \n",
    "    Rsq = SSR/SST\n",
    "    # Rsq = 1 - SSE/SST\n",
    "    \n",
    "    print(\"X values: \",x)\n",
    "    print(\"Y values: \",y)\n",
    "    print(\"a = \",a)\n",
    "    print(\"b = \",b)\n",
    "    print(\"c = \",c)\n",
    "    print(\"Y Calculated values: \",Ycal)\n",
    "    print(\"The Parabola Regression Line for the given data: \")\n",
    "    print(f\"Y = {a} + {b}X + {c}X2\")\n",
    "    print(\"Sum of Squares due to Total: \",SST)\n",
    "    print(\"Sum of Squares due to Treatments: \",SSR)\n",
    "    print(\"Sum of Squares due to Error: \",SSE)\n",
    "    print(\"R Square value: \",Rsq)\n",
    "    \n",
    "    drawPlotParabola(x, y, Ycal)\n",
    "    \n",
    "    if Rsq > 0.9:\n",
    "        print(\"The Y Calculated values is the best fit for the given data\")\n",
    "    else:\n",
    "        print(\"The Y Calculated values is not the best fit for the given data\")\n",
    "\n",
    "x = np.array([float(i) for i in input(\"Enter x values: \").strip().split()])\n",
    "y = np.array([float(i) for i in input(\"Enter y values: \").strip().split()])\n",
    "\n",
    "# x = np.array([2,4,6,8,10])\n",
    "# y = np.array([3.07,12.85,31.47,57.38,91.29])\n",
    "\n",
    "ParabolaRegression(x, y)"
   ]
  },
  {
   "cell_type": "markdown",
   "id": "9667a31e",
   "metadata": {},
   "source": [
    "## WEEK 3:"
   ]
  },
  {
   "cell_type": "code",
   "execution_count": 17,
   "id": "ce1473cc",
   "metadata": {},
   "outputs": [
    {
     "name": "stdout",
     "output_type": "stream",
     "text": [
      "X values:  [16 21 26 23 28 24 17 22 21]\n",
      "Y values:  [33 38 50 39 52 47 35 43 41]\n",
      "Co-variance of X and Y =  21.444444444444457\n",
      "Standard Deviation of X =  3.651483716701105\n",
      "Standard Deviation of Y =  6.2003584125794164\n",
      "The Karl Pearson's Correlation Coefficient of the given data is: 0.9471715321777888\n"
     ]
    }
   ],
   "source": [
    "# Karl Pearson's Correlation Coefficient:\n",
    "    \n",
    "def KPCC(x, y):\n",
    "    if mylen(x) != mylen(y):\n",
    "        print(\"Invalid Data!\")\n",
    "        return\n",
    "    \n",
    "    Covxy = CovXY(x,y)\n",
    "    SDx = SD(x)\n",
    "    SDy = SD(y)\n",
    "    \n",
    "    KPCC = Covxy / (SDx * SDy)\n",
    "    \n",
    "    print(\"X values: \",x)\n",
    "    print(\"Y values: \",y)\n",
    "    print(\"Co-variance of X and Y = \",Covxy)\n",
    "    print(\"Standard Deviation of X = \",SDx)\n",
    "    print(\"Standard Deviation of Y = \",SDy)\n",
    "    \n",
    "    if KPCC > -1 and KPCC < 1:\n",
    "        print(f\"The Karl Pearson's Correlation Coefficient of the given data is: {KPCC}\")\n",
    "    else:\n",
    "        print(\"Invalid Data!\")\n",
    "    \n",
    "x = np.array([float(i) for i in input(\"Enter x values: \").strip().split()])\n",
    "y = np.array([float(i) for i in input(\"Enter y values: \").strip().split()])\n",
    "\n",
    "# x = np.array([16,21,26,23,28,24,17,22,21])\n",
    "# y = np.array([33,38,50,39,52,47,35,43,41])\n",
    "\n",
    "KPCC = KPCC(x, y)"
   ]
  },
  {
   "cell_type": "markdown",
   "id": "59863e02",
   "metadata": {},
   "source": [
    "## WEEK 4:"
   ]
  },
  {
   "cell_type": "code",
   "execution_count": 24,
   "id": "7a0c7fde",
   "metadata": {},
   "outputs": [
    {
     "name": "stdout",
     "output_type": "stream",
     "text": [
      "di sq. Values:  [ 1  1  4  9  0 49  9  0  1  0]\n",
      "Sum if di sq. =  74\n",
      "The Spearman's Ranked Correlation Coefficient of the given data = 0.5515151515151515\n"
     ]
    }
   ],
   "source": [
    "# Spearman's Rank Correlation Coefficient:\n",
    "\n",
    "def SRCC(x, y):\n",
    "    n = len(x)\n",
    "    m = len(y)\n",
    "\n",
    "    if n != m:\n",
    "        print(\"Invalid Data: \")\n",
    "        return\n",
    "    \n",
    "    sortX = sorted(x)\n",
    "    sortY = sorted(y)\n",
    "    \n",
    "    RankX = {}\n",
    "    RankY = {}\n",
    "    \n",
    "    for i in x:\n",
    "        RankX[i] = n - sortX.index(i)\n",
    "        \n",
    "    for i in y:\n",
    "        RankY[i] = m - sortY.index(i)\n",
    "    \n",
    "    RankX = np.array([RankX[i] for i in RankX])\n",
    "    RankY = np.array([RankY[i] for i in RankY])\n",
    "    \n",
    "    Di = np.subtract(RankX, RankY)\n",
    "    DiSq = np.multiply(Di, Di)\n",
    "    \n",
    "    SumDiSq = mysum(DiSq)\n",
    "    \n",
    "    SRCC = 1 - ((6 * SumDiSq) / (n * (n**2 - 1)))\n",
    "    \n",
    "    print(\"di sq. Values: \",DiSq)\n",
    "    print(\"Sum if di sq. = \",SumDiSq)\n",
    "    print(f\"The Spearman's Ranked Correlation Coefficient of the given data = {SRCC}\")\n",
    "    \n",
    "x = np.array([float(i) for i in input(\"Enter x values: \").strip().split()])\n",
    "y = np.array([float(i) for i in input(\"Enter y values: \").strip().split()])\n",
    "\n",
    "# x = np.array([80,90,84,78,69,56,92,76,68,50])\n",
    "# y = np.array([12,14,19,8,9,16,13,11,4,2])\n",
    "\n",
    "SRCC(x, y)"
   ]
  },
  {
   "cell_type": "markdown",
   "id": "1b2600ba",
   "metadata": {},
   "source": [
    "## WEEK 5:"
   ]
  },
  {
   "cell_type": "code",
   "execution_count": 11,
   "id": "5568f79b",
   "metadata": {
    "scrolled": true
   },
   "outputs": [
    {
     "name": "stdout",
     "output_type": "stream",
     "text": [
      "213\n",
      "2281.4\n",
      "2383\n",
      "2268.45\n",
      "114.55000000000018\n",
      "12.950000000000273\n",
      "101.59999999999991\n"
     ]
    }
   ],
   "source": [
    "# ANOVA One-way Classification:\n",
    "\n",
    "#a = np.array([float(i) for i in input(\"Enter a values: \").strip().split(\" \")])\n",
    "#b = np.array([float(i) for i in input(\"Enter b values: \").strip().split(\" \")])\n",
    "#c = np.array([float(i) for i in input(\"Enter c values: \").strip().split(\" \")])\n",
    "#d = np.array([float(i) for i in input(\"Enter d values: \").strip().split(\" \")])\n",
    "\n",
    "a = np.array([6,14,10,8,11])\n",
    "b = np.array([14,9,12,10,14])\n",
    "c = np.array([10,12,7,15,11])\n",
    "d = np.array([9,12,8,10,11])\n",
    "\n",
    "Suma = mysum(a)\n",
    "Sumb = mysum(b)\n",
    "Sumc = mysum(c)\n",
    "Sumd = mysum(d)\n",
    "\n",
    "Ti = np.array([Suma, Sumb, Sumc, Sumd])\n",
    "\n",
    "G = mysum(Ti)\n",
    "\n",
    "Ti2 = (Suma**2 / mylen(a))\n",
    "Ti2 += (Sumb**2 / mylen(b))\n",
    "Ti2 += (Sumc**2 / mylen(c))\n",
    "Ti2 += (Sumd**2 / mylen(d))\n",
    "\n",
    "RSS =  Suma2 + Sumb2 + Sumc2 + Sumd2\n",
    "\n",
    "CF = G**2 / (mylen(a) + mylen(b) + mylen(c) + mylen(d))\n",
    "\n",
    "SST = RSS - CF\n",
    "\n",
    "SSR = Ti2 - CF\n",
    "\n",
    "SSE = SST - SSR\n",
    "# FTable = ss.f.ppf(0.05, k-1 n-k)\n",
    "print(G)\n",
    "print(Ti2)\n",
    "print(RSS)\n",
    "print(CF)\n",
    "print(SST)\n",
    "print(SSR)\n",
    "print(SSE)"
   ]
  },
  {
   "cell_type": "code",
   "execution_count": 35,
   "id": "401b49d1",
   "metadata": {},
   "outputs": [
    {
     "name": "stdout",
     "output_type": "stream",
     "text": [
      "Enter the number of Treatments: 3\n",
      "Enter name of the Treatments: Position\n",
      "Enter Position 1 values: 90 82 79 98 83 91\n",
      "Enter Position 2 values: 105 89 93 104 89 95 86\n",
      "Enter Position 3 values: 83 89 80 94\n",
      "Enter Level of Significance: 0.05\n",
      "[array([90., 82., 79., 98., 83., 91.]), array([105.,  89.,  93., 104.,  89.,  95.,  86.]), array([83., 89., 80., 94.])]\n",
      "1530.0\n",
      "137934.45238095237\n",
      "Row Sum of Squares (RSS): 138638.0\n",
      "Correction Factor (CF): 137700.0\n",
      "Sum of Squares due to Total (SST): 938.0\n",
      "Sum of Squares due to Treatments (SSTr): 234.4523809523671\n",
      "Sum of Squares due to Error (SSE): 703.5476190476329\n",
      "Mean Sum of Squares due to Treatments (Mean SST): 117.22619047618355\n",
      "Mean Sum of Squares due to Error (Mean SSE): 50.253401360545205\n",
      "F-Calculated Value: 2.3327016142676427\n",
      "F-Table Value: 3.738891832440735\n",
      "We Accept H0\n",
      "There is Homogeneity among the Position\n",
      "    Source of Variation  Sum of Squares  Degrees of Freedom  \\\n",
      "0  Treatments\\nPosition      234.452381                   2   \n",
      "1                 Error      703.547619                  14   \n",
      "2                 Total      938.000000                  16   \n",
      "\n",
      "  Mean Sum of Squares                Variance Ratio  \n",
      "0           117.22619  F - cal = 2.3327016142676427  \n",
      "1           50.253401                 ~ F(K-1, N-K)  \n",
      "2                  -                                 \n"
     ]
    }
   ],
   "source": [
    "# ANOVA One Way Classification:\n",
    "\n",
    "k = int(input(\"Enter the number of Treatments: \"))\n",
    "name = input(\"Enter name of the Treatments: \")\n",
    "\n",
    "Treatments = []\n",
    "\n",
    "for i in range(k):\n",
    "    a = np.array([float(j) for j in input(f\"Enter {name} {i+1} values: \").strip().split()])\n",
    "    Treatments.append(a)\n",
    "    \n",
    "alpha = float(input(\"Enter Level of Significance: \"))\n",
    "\n",
    "Ti = Ti2 = RSS = N = 0\n",
    "\n",
    "for i in Treatments:\n",
    "    Ti += mysum(i)\n",
    "    Ti2 += mysum(i)**2 / mylen(i)\n",
    "    RSS += mysum(np.square(i))\n",
    "    N += mylen(i)\n",
    "\n",
    "CF = Ti**2 / N\n",
    "SST = RSS - CF\n",
    "SSTr = Ti2 - CF\n",
    "SSE = SST - SSTr\n",
    "MeanSSTr = SSTr / (k-1)\n",
    "MeanSSE = SSE / (N-k)\n",
    "\n",
    "Fcal = MeanSSTr / MeanSSE\n",
    "\n",
    "if(Fcal < 1):\n",
    "    Fcal = 1 / Fcal\n",
    "\n",
    "FTable = ss.f.ppf(1-alpha, k-1, N-k)\n",
    "\n",
    "\n",
    "print(Treatments)\n",
    "    \n",
    "print(Ti)\n",
    "print(Ti2)\n",
    "print(f\"Row Sum of Squares (RSS): {RSS}\")\n",
    "print(f\"Correction Factor (CF): {CF}\")\n",
    "print(f\"Sum of Squares due to Total (SST): {SST}\")\n",
    "print(f\"Sum of Squares due to Treatments (SSTr): {SSTr}\")\n",
    "print(f\"Sum of Squares due to Error (SSE): {SSE}\")\n",
    "print(f\"Mean Sum of Squares due to Treatments (Mean SST): {MeanSSTr}\")\n",
    "print(f\"Mean Sum of Squares due to Error (Mean SSE): {MeanSSE}\")\n",
    "print(f\"F-Calculated Value: {Fcal}\")\n",
    "print(f\"F-Table Value: {FTable}\")\n",
    "\n",
    "if(Fcal < FTable):\n",
    "    print(f\"We Accept H0\\nThere is Homogeneity among the {name}\")\n",
    "else:\n",
    "    print(f\"We Reject H0\\nThere is Heterogeneity among the {name}\")\n",
    "    \n",
    "    \n",
    "data = {\n",
    "    \"Source of Variation\": [f\"Treatments ({name})\", \"Error\", \"Total\"],\n",
    "    \"Sum of Squares\": [SSTr, SSE, SST],\n",
    "    \"Degrees of Freedom\": [k-1, N-k, N-1],\n",
    "    \"Mean Sum of Squares\": [MeanSSTr, MeanSSE, \" - \"],\n",
    "    \"Variance Ratio\": [f\"F - cal = {Fcal}\",\"~ F(K-1, N-K)\",\"\"]\n",
    "}\n",
    "\n",
    "df = pd.DataFrame(data)\n",
    "\n",
    "print(df) "
   ]
  },
  {
   "cell_type": "code",
   "execution_count": null,
   "id": "18fa9d2f",
   "metadata": {},
   "outputs": [],
   "source": [
    "90 82 79 98 83 91\n",
    "105 89 93 104 89 95 86\n",
    "83 89 80 94"
   ]
  }
 ],
 "metadata": {
  "kernelspec": {
   "display_name": "Python 3 (ipykernel)",
   "language": "python",
   "name": "python3"
  },
  "language_info": {
   "codemirror_mode": {
    "name": "ipython",
    "version": 3
   },
   "file_extension": ".py",
   "mimetype": "text/x-python",
   "name": "python",
   "nbconvert_exporter": "python",
   "pygments_lexer": "ipython3",
   "version": "3.9.7"
  }
 },
 "nbformat": 4,
 "nbformat_minor": 5
}
