{
 "cells": [
  {
   "cell_type": "markdown",
   "id": "6bb84464",
   "metadata": {},
   "source": [
    "## Functions, Import Statements:"
   ]
  },
  {
   "cell_type": "code",
   "execution_count": null,
   "id": "208dc838",
   "metadata": {},
   "outputs": [],
   "source": [
    "import matplotlib.pyplot as plt\n",
    "\n",
    "def mylen(data):\n",
    "    size = 0\n",
    "    for i in data:\n",
    "        size = size + 1\n",
    "    return size\n",
    "\n",
    "def mysum(data):\n",
    "    s = 0\n",
    "    for i in data:\n",
    "        s = s + i\n",
    "    return s\n",
    "\n",
    "def mymean(data):\n",
    "    sum = 0\n",
    "    for i in data:\n",
    "        sum = sum + i\n",
    "    return sum/mylen(data)"
   ]
  },
  {
   "cell_type": "markdown",
   "id": "f7ff4e89",
   "metadata": {},
   "source": [
    "## WEEK 1:"
   ]
  },
  {
   "cell_type": "code",
   "execution_count": null,
   "id": "466464c4",
   "metadata": {},
   "outputs": [],
   "source": [
    "def LinearRegression(x, y):\n",
    "    if mylen(x) != mylen(y):\n",
    "        print(\"Invalid Data!\")\n",
    "        return\n",
    "    \n",
    "    n = mylen(x)\n",
    "    \n",
    "    slope = (n*mysum(np.multiply(x,y)) - mysum(x)*mysum(y)) / (n*mysum(np.multiply(x,x)) - mysum(x)**2)\n",
    "    \n",
    "    constant = (mysum(y) - slope*mysum(x)) / n\n",
    "    \n",
    "    Ycal = np.add(np.multiply(slope,x),constant)\n",
    "    \n",
    "    meanY = mymean(y)\n",
    "    \n",
    "    SST = mysum(np.array([(i-meanY)**2 for i in y]))\n",
    "    SSE = mysum(np.multiply(np.subtract(y, Ycal),np.subtract(y, Ycal)))\n",
    "    SSR = mysum(np.array([(i-meanY)**2 for i in Ycal]))\n",
    "    \n",
    "    Rsq = SSR/SST\n",
    "    # Rsq = 1 - SSE/SST\n",
    "    \n",
    "    print(\"X values: \",x)\n",
    "    print(\"Y values: \",y)\n",
    "    print(\"Slope (m): \",slope)\n",
    "    print(\"Constant (c): \",constant)\n",
    "    print(\"Y Calculated values: \",Ycal)\n",
    "    print(f\"Y Caclulated Equation: Y = {slope}X + {constant}\")\n",
    "    print(\"Sum of Squares due to Total: \",SST)\n",
    "    print(\"Sum of Squares due to Treatments: \",SSR)\n",
    "    print(\"Sum of Squares due to Error: \",SSE)\n",
    "    print(\"R Square value: \",Rsq)\n",
    "    \n",
    "    plt.plot(x, y)\n",
    "    plt.xlabel('x - axis')\n",
    "    plt.ylabel('y - axis')\n",
    "    plt.title('Linear Regression')\n",
    "    plt.show()\n",
    "\n",
    "    plt.plot(x, Ycal)\n",
    "    plt.xlabel('x - axis')\n",
    "    plt.ylabel('y - axis')\n",
    "    plt.title(\"Best Fit\")\n",
    "    plt.show\n",
    "    \n",
    "    if Rsq > 0.9:\n",
    "        print(\"The Y Calculated values is the best fit for the given data\")\n",
    "    else:\n",
    "        print(\"The Y Calculated values is not the best fit for the given data\")\n",
    "        \n",
    "x = np.array([int(i) for i in input(\"Enter x values: \").split()])\n",
    "y = np.array([int(i) for i in input(\"Enter y values: \").split()])\n",
    "\n",
    "# x = np.array([1,2,3,4,5,6,7,8,9])\n",
    "# y = np.array([10,20,30,40,50,60,70,80,90])\n",
    "\n",
    "LinearRegression(x, y)"
   ]
  },
  {
   "cell_type": "markdown",
   "id": "d7b5330a",
   "metadata": {},
   "source": [
    "## WEEK 2:"
   ]
  },
  {
   "cell_type": "code",
   "execution_count": null,
   "id": "0dfb0569",
   "metadata": {},
   "outputs": [],
   "source": []
  },
  {
   "cell_type": "markdown",
   "id": "9667a31e",
   "metadata": {},
   "source": [
    "## WEEK 3:"
   ]
  },
  {
   "cell_type": "code",
   "execution_count": null,
   "id": "ce1473cc",
   "metadata": {},
   "outputs": [],
   "source": [
    "def CorrelationCoefficient(x, y):\n",
    "    if mylen(x) != mylen(y):\n",
    "        print(\"Invalid Data!\")\n",
    "        return\n",
    "    \n",
    "    n = mylen(x)\n",
    "\n",
    "x = np.array([int(i) for i in input(\"Enter x values: \").split()])\n",
    "y = np.array([int(i) for i in input(\"Enter y values: \").split()])\n",
    "\n",
    "# x = np.array([1,2,3,4,5,6,7,8,9])\n",
    "# y = np.array([10,20,30,40,50,60,70,80,90])\n",
    "\n",
    "CorrelationCoefficient(x, y)"
   ]
  }
 ],
 "metadata": {
  "kernelspec": {
   "display_name": "Python 3 (ipykernel)",
   "language": "python",
   "name": "python3"
  },
  "language_info": {
   "codemirror_mode": {
    "name": "ipython",
    "version": 3
   },
   "file_extension": ".py",
   "mimetype": "text/x-python",
   "name": "python",
   "nbconvert_exporter": "python",
   "pygments_lexer": "ipython3",
   "version": "3.9.7"
  }
 },
 "nbformat": 4,
 "nbformat_minor": 5
}
