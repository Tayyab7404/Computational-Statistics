{
 "cells": [
  {
   "cell_type": "markdown",
   "id": "c14fd64a",
   "metadata": {},
   "source": [
    "## Mean:"
   ]
  },
  {
   "cell_type": "code",
   "execution_count": 35,
   "id": "4c4dd672",
   "metadata": {},
   "outputs": [
    {
     "name": "stdout",
     "output_type": "stream",
     "text": [
      "Enter the Data: 1 2 3 4 5 6 7 8 9\n",
      "[1 2 3 4 5 6 7 8 9]\n",
      "Mean of the given data: 5.0\n"
     ]
    }
   ],
   "source": [
    "import numpy as np\n",
    "\n",
    "def mymean(data):\n",
    "    sum = 0\n",
    "\n",
    "    for i in data:\n",
    "        sum = sum + i\n",
    "\n",
    "    return sum/len(data)\n",
    "\n",
    "if __name__ == \"__main__\":\n",
    "    data = np.array([int(i) for i in input(\"Enter the Data: \").split()])\n",
    "    print(data)\n",
    "\n",
    "    print(f\"Mean of the given data: {mymean(data)}\")"
   ]
  },
  {
   "cell_type": "markdown",
   "id": "772a1272",
   "metadata": {},
   "source": [
    "## Median:"
   ]
  },
  {
   "cell_type": "code",
   "execution_count": 49,
   "id": "d16c828a",
   "metadata": {},
   "outputs": [
    {
     "name": "stdout",
     "output_type": "stream",
     "text": [
      "Enter the Data: 1 2 3 6 9 8 7 4\n",
      "[1 2 3 6 9 8 7 4]\n",
      "Mean of the given data: 5.0\n"
     ]
    }
   ],
   "source": [
    "import numpy as np\n",
    "\n",
    "def mysort(data):\n",
    "    n = len(data)\n",
    "    \n",
    "    for i in range(n):\n",
    "        for j in range(n-i-1):\n",
    "            if data[j]>data[j+1]:\n",
    "                data[j],data[j+1] = data[j+1],data[j]\n",
    "\n",
    "def mymedian(data):\n",
    "    mysort(data)\n",
    "    \n",
    "    n = len(data)\n",
    "    \n",
    "    if n%2 == 1:\n",
    "        return data[n//2]\n",
    "    else:\n",
    "        return (data[n//2] + data[n//2 - 1])/2\n",
    "\n",
    "if __name__ == \"__main__\":\n",
    "    data = np.array([int(i) for i in input(\"Enter the Data: \").split()])\n",
    "    print(data)\n",
    "    \n",
    "    print(f\"Mean of the given data: {mymedian(data)}\")"
   ]
  },
  {
   "cell_type": "markdown",
   "id": "c63b2a8e",
   "metadata": {},
   "source": [
    "## Mode:"
   ]
  },
  {
   "cell_type": "code",
   "execution_count": 53,
   "id": "256eb48e",
   "metadata": {},
   "outputs": [
    {
     "name": "stdout",
     "output_type": "stream",
     "text": [
      "Enter the Data: 1 2 3 4 5 6 1 2 3 1\n",
      "[1 2 3 4 5 6 1 2 3 1]\n",
      "Mean of the given data: 1\n"
     ]
    }
   ],
   "source": [
    "import numpy as np\n",
    "\n",
    "def deldups(data):\n",
    "    newdata = []\n",
    "    \n",
    "    for i in data:\n",
    "        if i not in newdata:\n",
    "            newdata.append(i)\n",
    "    return newdata\n",
    "\n",
    "def mymode(data):\n",
    "    newdata = deldups(data)\n",
    "    \n",
    "    Maxcount = 0\n",
    "    Maxindex = 0\n",
    "\n",
    "    for i in newdata:\n",
    "        count = 0\n",
    "\n",
    "        for j in range(len(data)):\n",
    "            if data[j] == i:\n",
    "                count = count + 1\n",
    "            \n",
    "            if(Maxcount < count):\n",
    "                Maxcount = count\n",
    "                Maxindex = i-1\n",
    "    return data[Maxindex]\n",
    "\n",
    "if __name__ == \"__main__\":\n",
    "    data = np.array([int(i) for i in input(\"Enter the Data: \").split()])\n",
    "    print(data)\n",
    "    \n",
    "    print(f\"Mean of the given data: {mymode(data)}\")"
   ]
  }
 ],
 "metadata": {
  "kernelspec": {
   "display_name": "Python 3 (ipykernel)",
   "language": "python",
   "name": "python3"
  },
  "language_info": {
   "codemirror_mode": {
    "name": "ipython",
    "version": 3
   },
   "file_extension": ".py",
   "mimetype": "text/x-python",
   "name": "python",
   "nbconvert_exporter": "python",
   "pygments_lexer": "ipython3",
   "version": "3.9.7"
  }
 },
 "nbformat": 4,
 "nbformat_minor": 5
}
