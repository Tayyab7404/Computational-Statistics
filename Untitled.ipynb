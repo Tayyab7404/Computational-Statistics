{
 "cells": [
  {
   "cell_type": "code",
   "execution_count": 7,
   "id": "ac308c28",
   "metadata": {},
   "outputs": [
    {
     "name": "stdout",
     "output_type": "stream",
     "text": [
      "Group 1:\n",
      "F-value: -0.33142857142857146\n",
      "p-value: nan\n",
      "\n",
      "Group 2:\n",
      "F-value: -0.0975\n",
      "p-value: nan\n"
     ]
    }
   ],
   "source": [
    "import numpy as np\n",
    "from scipy.stats import f\n",
    "\n",
    "# Sample data\n",
    "group1 = [5, 7, 3, 9, 12, 8, 6, 10]\n",
    "group2 = [1, 2, 3, 1, 2, 3, 1, 2]\n",
    "y = [15, 20, 10, 12, 18, 16, 8, 14]\n",
    "\n",
    "# Calculate the means\n",
    "mean_total = np.mean(y)\n",
    "mean_group1 = np.mean(group1)\n",
    "mean_group2 = np.mean(group2)\n",
    "\n",
    "# Calculate the sum of squares\n",
    "ss_total = np.sum((y - mean_total) ** 2)\n",
    "ss_group1 = np.sum((group1 - mean_group1) ** 2)\n",
    "ss_group2 = np.sum((group2 - mean_group2) ** 2)\n",
    "ss_error = ss_total - ss_group1 - ss_group2\n",
    "\n",
    "# Calculate the degrees of freedom\n",
    "df_total = len(y) - 1\n",
    "df_group1 = len(np.unique(group1)) - 1\n",
    "df_group2 = len(np.unique(group2)) - 1\n",
    "df_error = df_total - df_group1 - df_group2\n",
    "\n",
    "# Calculate the mean squares\n",
    "ms_group1 = ss_group1 / df_group1\n",
    "ms_group2 = ss_group2 / df_group2\n",
    "ms_error = ss_error / df_error\n",
    "\n",
    "# Calculate the F-values\n",
    "f_value_group1 = ms_group1 / ms_error\n",
    "f_value_group2 = ms_group2 / ms_error\n",
    "\n",
    "# Calculate the p-values\n",
    "p_value_group1 = 1 - f.cdf(f_value_group1, df_group1, df_error)\n",
    "p_value_group2 = 1 - f.cdf(f_value_group2, df_group2, df_error)\n",
    "\n",
    "# Print the results\n",
    "print(\"Group 1:\")\n",
    "print(\"F-value:\", f_value_group1)\n",
    "print(\"p-value:\", p_value_group1)\n",
    "print()\n",
    "print(\"Group 2:\")\n",
    "print(\"F-value:\", f_value_group2)\n",
    "print(\"p-value:\", p_value_group2)\n"
   ]
  },
  {
   "cell_type": "code",
   "execution_count": 21,
   "id": "b9fbfffc",
   "metadata": {},
   "outputs": [
    {
     "ename": "ValueError",
     "evalue": "operands could not be broadcast together with shapes (4,) (2,) ",
     "output_type": "error",
     "traceback": [
      "\u001b[1;31m---------------------------------------------------------------------------\u001b[0m",
      "\u001b[1;31mValueError\u001b[0m                                Traceback (most recent call last)",
      "Cell \u001b[1;32mIn [21], line 26\u001b[0m\n\u001b[0;32m     19\u001b[0m XTY \u001b[38;5;241m=\u001b[39m np\u001b[38;5;241m.\u001b[39marray([[\u001b[38;5;28msum\u001b[39m(x0\u001b[38;5;241m*\u001b[39my0),\u001b[38;5;28msum\u001b[39m(x0\u001b[38;5;241m*\u001b[39my1)],\n\u001b[0;32m     20\u001b[0m                 [\u001b[38;5;28msum\u001b[39m(x1\u001b[38;5;241m*\u001b[39my0),\u001b[38;5;28msum\u001b[39m(x1\u001b[38;5;241m*\u001b[39my1)],\n\u001b[0;32m     21\u001b[0m                 [\u001b[38;5;28msum\u001b[39m(x2\u001b[38;5;241m*\u001b[39my0),\u001b[38;5;28msum\u001b[39m(x2\u001b[38;5;241m*\u001b[39my1)],\n\u001b[0;32m     22\u001b[0m                 [\u001b[38;5;28msum\u001b[39m(x3\u001b[38;5;241m*\u001b[39my0),\u001b[38;5;28msum\u001b[39m(x3\u001b[38;5;241m*\u001b[39my1)]])\n\u001b[0;32m     24\u001b[0m XTX_inv \u001b[38;5;241m=\u001b[39m np\u001b[38;5;241m.\u001b[39mlinalg\u001b[38;5;241m.\u001b[39minv(XTX)\n\u001b[1;32m---> 26\u001b[0m BetaCap \u001b[38;5;241m=\u001b[39m np\u001b[38;5;241m.\u001b[39marray([[\u001b[38;5;28msum\u001b[39m(XTX_inv[\u001b[38;5;241m0\u001b[39m]\u001b[38;5;241m*\u001b[39mXTY[\u001b[38;5;241m0\u001b[39m]),\u001b[38;5;28msum\u001b[39m(XTX_inv[\u001b[38;5;241m0\u001b[39m]\u001b[38;5;241m*\u001b[39mXTY[\u001b[38;5;241m1\u001b[39m])],\n\u001b[0;32m     27\u001b[0m                     [\u001b[38;5;28msum\u001b[39m(XTX_inv[\u001b[38;5;241m1\u001b[39m]\u001b[38;5;241m*\u001b[39mXTY[\u001b[38;5;241m0\u001b[39m]),\u001b[38;5;28msum\u001b[39m(XTX_inv[\u001b[38;5;241m1\u001b[39m]\u001b[38;5;241m*\u001b[39mXTY[\u001b[38;5;241m1\u001b[39m])],\n\u001b[0;32m     28\u001b[0m                     [\u001b[38;5;28msum\u001b[39m(XTX_inv[\u001b[38;5;241m2\u001b[39m]\u001b[38;5;241m*\u001b[39mXTY[\u001b[38;5;241m0\u001b[39m]),\u001b[38;5;28msum\u001b[39m(XTX_inv[\u001b[38;5;241m2\u001b[39m]\u001b[38;5;241m*\u001b[39mXTY[\u001b[38;5;241m1\u001b[39m])],\n\u001b[0;32m     29\u001b[0m                     [\u001b[38;5;28msum\u001b[39m(XTX_inv[\u001b[38;5;241m3\u001b[39m]\u001b[38;5;241m*\u001b[39mXTY[\u001b[38;5;241m0\u001b[39m]),\u001b[38;5;28msum\u001b[39m(XTX_inv[\u001b[38;5;241m3\u001b[39m]\u001b[38;5;241m*\u001b[39mXTY[\u001b[38;5;241m1\u001b[39m])]])\n\u001b[0;32m     31\u001b[0m BetaCap\n",
      "\u001b[1;31mValueError\u001b[0m: operands could not be broadcast together with shapes (4,) (2,) "
     ]
    }
   ],
   "source": [
    "import numpy as np\n",
    "\n",
    "y0 = np.array([10,12,11,9,9,10,11,12,11,10,11,12])\n",
    "y1 = np.array([100,110,105,94,95,99,104,108,105,98,103,110])\n",
    "\n",
    "x0 = np.array([1 for i in range(12)])\n",
    "x1 = np.array([9,8,7,14,12,10,7,4,6,5,7,6])\n",
    "x2 = np.array([62,58,64,60,63,57,55,56,59,61,57,60])\n",
    "x3 = np.array([1.0,1.3,1.2,0.8,0.8,0.9,1.0,1.2,1.1,1.0,1.2,1.2])\n",
    "\n",
    "X = np.array([x0,x1,x2,x3])\n",
    "Y = np.array([y0,y1])\n",
    "\n",
    "XTX = np.array([[sum(x0*x0),sum(x0*x1),sum(x0*x2),sum(x0*x3)],\n",
    "                [sum(x1*x0),sum(x1*x1),sum(x1*x2),sum(x1*x3)],\n",
    "                [sum(x2*x0),sum(x2*x1),sum(x2*x2),sum(x2*x3)],\n",
    "                [sum(x3*x0),sum(x3*x1),sum(x3*x2),sum(x3*x3)]])\n",
    "\n",
    "XTY = np.array([[sum(x0*y0),sum(x0*y1)],\n",
    "                [sum(x1*y0),sum(x1*y1)],\n",
    "                [sum(x2*y0),sum(x2*y1)],\n",
    "                [sum(x3*y0),sum(x3*y1)]])\n",
    "\n",
    "XTX_inv = np.linalg.inv(XTX)\n",
    "\n",
    "BetaCap = np.array([[sum(XTX_inv[0]*XTY[0]),sum(XTX_inv[0]*XTY[1])],\n",
    "                    [sum(XTX_inv[1]*XTY[0]),sum(XTX_inv[1]*XTY[1])],\n",
    "                    [sum(XTX_inv[2]*XTY[0]),sum(XTX_inv[2]*XTY[1])],\n",
    "                    [sum(XTX_inv[3]*XTY[0]),sum(XTX_inv[3]*XTY[1])]])\n",
    "\n",
    "BetaCap"
   ]
  }
 ],
 "metadata": {
  "kernelspec": {
   "display_name": "Python 3 (ipykernel)",
   "language": "python",
   "name": "python3"
  },
  "language_info": {
   "codemirror_mode": {
    "name": "ipython",
    "version": 3
   },
   "file_extension": ".py",
   "mimetype": "text/x-python",
   "name": "python",
   "nbconvert_exporter": "python",
   "pygments_lexer": "ipython3",
   "version": "3.8.10"
  }
 },
 "nbformat": 4,
 "nbformat_minor": 5
}
