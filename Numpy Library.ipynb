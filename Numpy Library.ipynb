{
 "cells": [
  {
   "cell_type": "markdown",
   "id": "6320c910",
   "metadata": {},
   "source": [
    "# Numpy Library"
   ]
  },
  {
   "cell_type": "code",
   "execution_count": 11,
   "id": "f178a12d",
   "metadata": {},
   "outputs": [
    {
     "name": "stdout",
     "output_type": "stream",
     "text": [
      "[1, 2, 3, 4]\n"
     ]
    }
   ],
   "source": [
    "import numpy as np\n",
    "\n",
    "a = [1,2,3,4]\n",
    "print(a)"
   ]
  },
  {
   "cell_type": "markdown",
   "id": "806248bf",
   "metadata": {},
   "source": [
    "### array() method:\n",
    "- Syntax:\n",
    "- numpy.array(object, dtype=None, copy=True, order='K', subok=False, ndmin=0) "
   ]
  },
  {
   "cell_type": "code",
   "execution_count": 12,
   "id": "9b1545ed",
   "metadata": {},
   "outputs": [
    {
     "name": "stdout",
     "output_type": "stream",
     "text": [
      "[1 2 3 4]\n"
     ]
    }
   ],
   "source": [
    "a = np.array(a)\n",
    "print(a)"
   ]
  },
  {
   "cell_type": "markdown",
   "id": "b4445ec9",
   "metadata": {},
   "source": [
    "### arange() method:\n",
    "- Syntax:\n",
    "- numpy.arrange(start, stop, step, dtype)  "
   ]
  },
  {
   "cell_type": "code",
   "execution_count": 15,
   "id": "fd1c5f10",
   "metadata": {},
   "outputs": [
    {
     "name": "stdout",
     "output_type": "stream",
     "text": [
      "[0 2 4 6 8]\n"
     ]
    }
   ],
   "source": [
    "a = np.arange(0,10,2)\n",
    "print(a)"
   ]
  },
  {
   "cell_type": "markdown",
   "id": "d35ae74a",
   "metadata": {},
   "source": [
    "### empty() method:\n",
    "- Syntax:\n",
    "- numpy.empty(shape, dtype=float, order='C', *, like=None)"
   ]
  },
  {
   "cell_type": "code",
   "execution_count": 33,
   "id": "90b5f42b",
   "metadata": {},
   "outputs": [
    {
     "name": "stdout",
     "output_type": "stream",
     "text": [
      "[2.12199579e-314 2.12199579e-314 2.12199579e-314 2.12199579e-314\n",
      " 2.12199579e-314 2.12199579e-314]\n"
     ]
    }
   ],
   "source": [
    "a = np.empty(6)\n",
    "print(a)"
   ]
  },
  {
   "cell_type": "markdown",
   "id": "b54aef97",
   "metadata": {},
   "source": [
    "### zeros() method:\n",
    "- Syntax:\n",
    "- numpy.zeros(shape, dtype=float, order='C')"
   ]
  },
  {
   "cell_type": "code",
   "execution_count": 16,
   "id": "081484bd",
   "metadata": {},
   "outputs": [
    {
     "name": "stdout",
     "output_type": "stream",
     "text": [
      "[[0 0 0]\n",
      " [0 0 0]\n",
      " [0 0 0]]\n"
     ]
    }
   ],
   "source": [
    "a = np.zeros([3,3],dtype=int)\n",
    "print(a)"
   ]
  },
  {
   "cell_type": "markdown",
   "id": "c21cccec",
   "metadata": {},
   "source": [
    "### ones() method:\n",
    "- Syntax:\n",
    "- numpy.ones(shape, dtype=None, order='C', *, like=None)"
   ]
  },
  {
   "cell_type": "code",
   "execution_count": 17,
   "id": "6d25fcc0",
   "metadata": {},
   "outputs": [
    {
     "name": "stdout",
     "output_type": "stream",
     "text": [
      "[[1 1 1]\n",
      " [1 1 1]\n",
      " [1 1 1]]\n"
     ]
    }
   ],
   "source": [
    "a = np.ones([3,3],dtype=int)\n",
    "print(a)"
   ]
  },
  {
   "cell_type": "markdown",
   "id": "d8f5cf0d",
   "metadata": {},
   "source": [
    "### eye() method:\n",
    "- Syntax:\n",
    "- numpy.matlib.eye(n, m, k, dtype)"
   ]
  },
  {
   "cell_type": "code",
   "execution_count": 18,
   "id": "4b1bbd01",
   "metadata": {},
   "outputs": [
    {
     "name": "stdout",
     "output_type": "stream",
     "text": [
      "[[1 0 0]\n",
      " [0 1 0]\n",
      " [0 0 1]]\n"
     ]
    }
   ],
   "source": [
    "a = np.eye(3,3,dtype=int)\n",
    "print(a)"
   ]
  },
  {
   "cell_type": "markdown",
   "id": "f47c0087",
   "metadata": {},
   "source": [
    "### full() method:\n",
    "- Syntax:\n",
    "- numpy.full(shape, fill_value, dtype=None, like=None)"
   ]
  },
  {
   "cell_type": "code",
   "execution_count": 19,
   "id": "e1a0b7bd",
   "metadata": {},
   "outputs": [
    {
     "name": "stdout",
     "output_type": "stream",
     "text": [
      "[[50 50 50]\n",
      " [50 50 50]\n",
      " [50 50 50]]\n"
     ]
    }
   ],
   "source": [
    "a = np.full([3,3],50)\n",
    "print(a)"
   ]
  },
  {
   "cell_type": "markdown",
   "id": "524a75fc",
   "metadata": {},
   "source": [
    "### linspace() method:\n",
    "- Syntax:\n",
    "- numpy.linspace(start, stop, num=50, endpoint=True, retstep=False, dtype=None, axis=0)"
   ]
  },
  {
   "cell_type": "code",
   "execution_count": 20,
   "id": "57c91ed9",
   "metadata": {},
   "outputs": [
    {
     "name": "stdout",
     "output_type": "stream",
     "text": [
      "[ 0  2  4  6  8 10 12 14 16 18 20]\n"
     ]
    }
   ],
   "source": [
    "a = np.linspace(0,20,11,dtype=int)\n",
    "print(a)"
   ]
  },
  {
   "cell_type": "markdown",
   "id": "2f4d959f",
   "metadata": {},
   "source": [
    "### ndim, shape, dytpe Atrributes:"
   ]
  },
  {
   "cell_type": "code",
   "execution_count": 21,
   "id": "976cbc55",
   "metadata": {
    "scrolled": true
   },
   "outputs": [
    {
     "name": "stdout",
     "output_type": "stream",
     "text": [
      "3\n",
      "(3, 3, 3)\n",
      "float64\n",
      "[[[0. 0. 0.]\n",
      "  [0. 0. 0.]\n",
      "  [0. 0. 0.]]\n",
      "\n",
      " [[0. 0. 0.]\n",
      "  [0. 0. 0.]\n",
      "  [0. 0. 0.]]\n",
      "\n",
      " [[0. 0. 0.]\n",
      "  [0. 0. 0.]\n",
      "  [0. 0. 0.]]]\n"
     ]
    }
   ],
   "source": [
    "a = np.zeros([3,3,3],dtype=float)\n",
    "print(a.ndim)\n",
    "print(a.shape)\n",
    "print(a.dtype)\n",
    "print(a)"
   ]
  },
  {
   "cell_type": "markdown",
   "id": "e984aa64",
   "metadata": {},
   "source": [
    "### astype() method:\n",
    "- Syntax:\n",
    "- ndarray.astype(dtype, order='K', casting='unsafe', subok=True, copy=True)"
   ]
  },
  {
   "cell_type": "code",
   "execution_count": 22,
   "id": "411d9509",
   "metadata": {},
   "outputs": [
    {
     "name": "stdout",
     "output_type": "stream",
     "text": [
      "[[[0 0 0]\n",
      "  [0 0 0]\n",
      "  [0 0 0]]\n",
      "\n",
      " [[0 0 0]\n",
      "  [0 0 0]\n",
      "  [0 0 0]]\n",
      "\n",
      " [[0 0 0]\n",
      "  [0 0 0]\n",
      "  [0 0 0]]]\n"
     ]
    }
   ],
   "source": [
    "a = a.astype(np.int32)\n",
    "print(a)"
   ]
  },
  {
   "cell_type": "markdown",
   "id": "5869d59d",
   "metadata": {},
   "source": [
    "### asarray() method:\n",
    "- Syntax:\n",
    "- numpy.asarray(a, dtype=None, order=None, *, like=None)\n",
    "### nditer() method:\n",
    "- Syntax:\n",
    "- numpy.nditer(op, flags=None, op_flags=None, op_dtypes=None, order='K', casting='safe', op_axes=None, itershape=None, buffersize=0)"
   ]
  },
  {
   "cell_type": "code",
   "execution_count": 23,
   "id": "b989e3ff",
   "metadata": {},
   "outputs": [
    {
     "name": "stdout",
     "output_type": "stream",
     "text": [
      "[[ 1.  2.  3.  4.  5.]\n",
      " [ 6.  7.  8.  9. 10.]]\n",
      "1.0\n",
      "6.0\n",
      "2.0\n",
      "7.0\n",
      "3.0\n",
      "8.0\n",
      "4.0\n",
      "9.0\n",
      "5.0\n",
      "10.0\n"
     ]
    }
   ],
   "source": [
    "a = np.array([[1,2,3,4,5],[6,7,8,9,10]])\n",
    "a = np.asarray(a,float,'F')\n",
    "print(a)\n",
    "for i in np.nditer(a):\n",
    "  print(i)"
   ]
  },
  {
   "cell_type": "markdown",
   "id": "15bb6a32",
   "metadata": {},
   "source": [
    "### reshape() method:\n",
    "- Syntax:\n",
    "- numpy.reshape(a, newshape, order='C')"
   ]
  },
  {
   "cell_type": "code",
   "execution_count": 24,
   "id": "ec66e6cf",
   "metadata": {},
   "outputs": [
    {
     "name": "stdout",
     "output_type": "stream",
     "text": [
      "[[1 1 1]\n",
      " [1 1 1]\n",
      " [1 1 1]\n",
      " [1 1 1]]\n"
     ]
    }
   ],
   "source": [
    "a = np.ones([4,3],dtype=int)\n",
    "print(a)"
   ]
  },
  {
   "cell_type": "code",
   "execution_count": 25,
   "id": "31b185da",
   "metadata": {},
   "outputs": [
    {
     "name": "stdout",
     "output_type": "stream",
     "text": [
      "[[1 1]\n",
      " [1 1]\n",
      " [1 1]\n",
      " [1 1]\n",
      " [1 1]\n",
      " [1 1]]\n"
     ]
    }
   ],
   "source": [
    "a = a.reshape(6,2)\n",
    "print(a)"
   ]
  },
  {
   "cell_type": "code",
   "execution_count": 77,
   "id": "6290aaee",
   "metadata": {},
   "outputs": [
    {
     "name": "stdout",
     "output_type": "stream",
     "text": [
      "[[9 4 6]\n",
      " [2 7 1]\n",
      " [5 3 8]]\n"
     ]
    }
   ],
   "source": [
    "a = np.array([9,4,6,2,7,1,5,3,8])\n",
    "a= a.reshape(3,3)\n",
    "print(a)"
   ]
  },
  {
   "cell_type": "markdown",
   "id": "b6ed39dd",
   "metadata": {},
   "source": [
    "### sort() method:\n",
    "- Syntax:\n",
    "- ndarray.sort(axis=-1, kind=None, order=None)"
   ]
  },
  {
   "cell_type": "code",
   "execution_count": 72,
   "id": "079b1730",
   "metadata": {},
   "outputs": [
    {
     "name": "stdout",
     "output_type": "stream",
     "text": [
      "[[2 3 1]\n",
      " [5 4 6]\n",
      " [9 7 8]]\n"
     ]
    }
   ],
   "source": [
    "a.sort(axis=0)\n",
    "# Sorts the Coloumns\n",
    "print(a)"
   ]
  },
  {
   "cell_type": "code",
   "execution_count": 74,
   "id": "e47afc1e",
   "metadata": {},
   "outputs": [
    {
     "name": "stdout",
     "output_type": "stream",
     "text": [
      "[[4 6 9]\n",
      " [1 2 7]\n",
      " [3 5 8]]\n"
     ]
    }
   ],
   "source": [
    "a.sort(axis=1)\n",
    "# Sorts the Rows\n",
    "print(a)"
   ]
  },
  {
   "cell_type": "markdown",
   "id": "006a3ca7",
   "metadata": {},
   "source": [
    "### numpy.sort() method:\n",
    "- Syntax:\n",
    "- numpy.sort(a, axis=-1, kind=None, order=None)"
   ]
  },
  {
   "cell_type": "code",
   "execution_count": 76,
   "id": "8c1b6fca",
   "metadata": {},
   "outputs": [
    {
     "name": "stdout",
     "output_type": "stream",
     "text": [
      "[[2 3 1]\n",
      " [5 4 6]\n",
      " [9 7 8]]\n"
     ]
    }
   ],
   "source": [
    "a = np.sort(a,axis=0)\n",
    "# Sorts the Coloumns\n",
    "print(a)"
   ]
  },
  {
   "cell_type": "code",
   "execution_count": 78,
   "id": "e4377bb9",
   "metadata": {},
   "outputs": [
    {
     "name": "stdout",
     "output_type": "stream",
     "text": [
      "[[4 6 9]\n",
      " [1 2 7]\n",
      " [3 5 8]]\n"
     ]
    }
   ],
   "source": [
    "a = np.sort(a,axis=1)\n",
    "# Sorts the Rows\n",
    "print(a)"
   ]
  },
  {
   "cell_type": "markdown",
   "id": "a1dc52bc",
   "metadata": {},
   "source": [
    "### copy() method:\n",
    "- Syntax:\n",
    "- numpy.copy(a, order='K', subok=False)\n",
    "- ndarray.copy()"
   ]
  },
  {
   "cell_type": "code",
   "execution_count": 80,
   "id": "5a7d52bf",
   "metadata": {},
   "outputs": [
    {
     "name": "stdout",
     "output_type": "stream",
     "text": [
      "[1 2 3 4 5]\n",
      "[1 9 3 4 5]\n"
     ]
    }
   ],
   "source": [
    "a = np.array([1,2,3,4,5])\n",
    "b = a.copy()\n",
    "b = np.copy(a)\n",
    "b[1] = 9\n",
    "print(a)\n",
    "print(b)"
   ]
  },
  {
   "cell_type": "markdown",
   "id": "e0d57f06",
   "metadata": {},
   "source": [
    "### concatenate() method:\n",
    "- Syntax:\n",
    "- numpy.concatenate((a1, a2, ...), axis=0, out=None, dtype=None, casting=\"same_kind\")"
   ]
  },
  {
   "cell_type": "code",
   "execution_count": 86,
   "id": "14c81e3f",
   "metadata": {},
   "outputs": [
    {
     "name": "stdout",
     "output_type": "stream",
     "text": [
      "[[0 1 2]\n",
      " [3 4 5]]\n",
      "[[ 7  8  9]\n",
      " [10 11 12]]\n",
      "[[ 0  1  2]\n",
      " [ 3  4  5]\n",
      " [ 7  8  9]\n",
      " [10 11 12]]\n",
      "[[ 0  1  2  7  8  9]\n",
      " [ 3  4  5 10 11 12]]\n"
     ]
    }
   ],
   "source": [
    "a = np.arange(0,6).reshape(2,3)\n",
    "print(a)\n",
    "b = np.arange(7,13).reshape(2,3)\n",
    "print(b)\n",
    "c = np.concatenate((a,b),axis=0) # Concatenates Rows\n",
    "print(c)\n",
    "d = np.concatenate((a,b),axis=1) # Concatenates Coloumns\n",
    "print(d)"
   ]
  },
  {
   "cell_type": "markdown",
   "id": "a20bc0b6",
   "metadata": {},
   "source": [
    "### vstack() and hstack() methods:\n",
    "- Syntax:\n",
    "- numpy.hstack(tup, *, dtype=None, casting='same_kind')\n",
    "- numpy.vstack(tup, *, dtype=None, casting='same_kind')\n"
   ]
  },
  {
   "cell_type": "code",
   "execution_count": 88,
   "id": "7227be06",
   "metadata": {},
   "outputs": [
    {
     "name": "stdout",
     "output_type": "stream",
     "text": [
      "[[0 1 2]\n",
      " [3 4 5]]\n",
      "[[ 7  8  9]\n",
      " [10 11 12]]\n",
      "[[ 0  1  2  7  8  9]\n",
      " [ 3  4  5 10 11 12]]\n",
      "[[ 0  1  2]\n",
      " [ 3  4  5]\n",
      " [ 7  8  9]\n",
      " [10 11 12]]\n"
     ]
    }
   ],
   "source": [
    "a = np.arange(0,6).reshape(2,3)\n",
    "print(a)\n",
    "b = np.arange(7,13).reshape(2,3)\n",
    "print(b)\n",
    "c = np.hstack((a,b)) # Stack arrays in sequence horizontally\n",
    "print(c)\n",
    "d = np.vstack((a,b)) # Stack arrays in sequence vertically\n",
    "print(d)"
   ]
  },
  {
   "cell_type": "markdown",
   "id": "1c2592ca",
   "metadata": {},
   "source": [
    "### where() method:\n",
    "- Syntax:\n",
    "- numpy.where(condition, [x, y, ]/)"
   ]
  },
  {
   "cell_type": "code",
   "execution_count": 91,
   "id": "e5a2bbce",
   "metadata": {},
   "outputs": [
    {
     "name": "stdout",
     "output_type": "stream",
     "text": [
      "[10 20 30 40 50 60 70 80 90]\n",
      "(array([2], dtype=int64),)\n",
      "(array([2, 5, 8], dtype=int64),)\n"
     ]
    }
   ],
   "source": [
    "a=np.arange(10,100,10)\n",
    "print(a)\n",
    "print(np.where(a==30))\n",
    "print(np.where(a%30==0))"
   ]
  },
  {
   "cell_type": "markdown",
   "id": "7d97ebcb",
   "metadata": {},
   "source": [
    "### add() subtract() multiply() methods"
   ]
  },
  {
   "cell_type": "code",
   "execution_count": 107,
   "id": "8b51e3aa",
   "metadata": {},
   "outputs": [
    {
     "name": "stdout",
     "output_type": "stream",
     "text": [
      "a: [[0 1]\n",
      " [2 3]]\n",
      "\n",
      "b1: [1 2]\n",
      "\n",
      "[[1 3]\n",
      " [3 5]]\n",
      "\n",
      "b2: [[1 2]\n",
      " [3 4]]\n",
      "\n",
      "a + b: \n",
      "[[1 3]\n",
      " [5 7]]\n",
      "a - b: \n",
      "[[-1 -1]\n",
      " [-1 -1]]\n",
      "a * b: \n",
      "[[ 0  2]\n",
      " [ 6 12]]\n"
     ]
    }
   ],
   "source": [
    "a=np.array([[0,1],[2,3]])\n",
    "print(f\"a: {a}\")\n",
    "print()\n",
    "\n",
    "b=np.array([1,2])\n",
    "print(f\"b1: {b}\")\n",
    "print()\n",
    "\n",
    "print(np.add(a,b))\n",
    "print()\n",
    "\n",
    "b=np.array([[1,2],[3,4]])\n",
    "print(f\"b2: {b}\")\n",
    "print()\n",
    "\n",
    "print(\"a + b: \")\n",
    "print(np.add(a,b))\n",
    "print(\"a - b: \")\n",
    "print(np.subtract(a,b))\n",
    "print(\"a * b: \")\n",
    "print(np.multiply(a,b))"
   ]
  },
  {
   "cell_type": "markdown",
   "id": "1d06ada7",
   "metadata": {},
   "source": [
    "### min() method:"
   ]
  },
  {
   "cell_type": "code",
   "execution_count": 111,
   "id": "f091a96b",
   "metadata": {},
   "outputs": [
    {
     "name": "stdout",
     "output_type": "stream",
     "text": [
      "[[50 10 40]\n",
      " [30 60 20]\n",
      " [90 70 80]]\n",
      "10\n",
      "[30 10 20]\n",
      "[10 20 70]\n"
     ]
    }
   ],
   "source": [
    "a=np.array([[50,10,40],[30,60,20],[90,70,80]])\n",
    "print(a)\n",
    "print(np.min(a)) # Minimun number in the whole array\n",
    "print(np.min(a,axis=0)) # Minimum number in each coloumn\n",
    "print(np.min(a,axis=1)) # Minimum number in each row"
   ]
  },
  {
   "cell_type": "markdown",
   "id": "e540b59a",
   "metadata": {},
   "source": [
    "### max() method:"
   ]
  },
  {
   "cell_type": "code",
   "execution_count": 112,
   "id": "3e769175",
   "metadata": {},
   "outputs": [
    {
     "name": "stdout",
     "output_type": "stream",
     "text": [
      "[[50 10 40]\n",
      " [30 60 20]\n",
      " [90 70 80]]\n",
      "90\n",
      "[90 70 80]\n",
      "[50 60 90]\n"
     ]
    }
   ],
   "source": [
    "a=np.array([[50,10,40],[30,60,20],[90,70,80]])\n",
    "print(a)\n",
    "print(np.max(a)) # Maximun number in the whole array\n",
    "print(np.max(a,axis=0)) # Maximum number in each coloumn\n",
    "print(np.max(a,axis=1)) # Maximum number in each row"
   ]
  },
  {
   "cell_type": "markdown",
   "id": "84f15816",
   "metadata": {},
   "source": [
    "### mean() and average() methods:"
   ]
  },
  {
   "cell_type": "code",
   "execution_count": 114,
   "id": "4cbc8a6a",
   "metadata": {},
   "outputs": [
    {
     "name": "stdout",
     "output_type": "stream",
     "text": [
      "[[50 10 40]\n",
      " [30 60 20]\n",
      " [90 70 80]]\n",
      "50.0\n",
      "50.0\n",
      "[56.66666667 46.66666667 46.66666667]\n",
      "[33.33333333 36.66666667 80.        ]\n"
     ]
    }
   ],
   "source": [
    "a=np.array([[50,10,40],[30,60,20],[90,70,80]])\n",
    "print(a)\n",
    "print(np.average(a))\n",
    "print(np.mean(a)) # Mean of whole array\n",
    "print(np.mean(a,axis=0)) # Mean of each coloumn\n",
    "print(np.mean(a,axis=1)) # Mean of each row"
   ]
  },
  {
   "cell_type": "markdown",
   "id": "4c1038a8",
   "metadata": {},
   "source": [
    "### median(), var() and std() methods:"
   ]
  },
  {
   "cell_type": "code",
   "execution_count": 116,
   "id": "7c7432ed",
   "metadata": {},
   "outputs": [
    {
     "name": "stdout",
     "output_type": "stream",
     "text": [
      "[[50 10 40]\n",
      " [30 60 20]\n",
      " [90 70 80]]\n",
      "50.0\n",
      "[50. 60. 40.]\n",
      "[40. 30. 80.]\n",
      "666.6666666666666\n",
      "25.81988897471611\n"
     ]
    }
   ],
   "source": [
    "a=np.array([[50,10,40],[30,60,20],[90,70,80]])\n",
    "print(a)\n",
    "print(np.median(a)) # Median of whole array\n",
    "print(np.median(a,axis=0)) # Median of each coloumn\n",
    "print(np.median(a,axis=1)) # Median of each row\n",
    "print(np.var(a)) # Variance of whole array\n",
    "print(np.std(a)) # Standard Deviation of whole array"
   ]
  }
 ],
 "metadata": {
  "kernelspec": {
   "display_name": "Python 3 (ipykernel)",
   "language": "python",
   "name": "python3"
  },
  "language_info": {
   "codemirror_mode": {
    "name": "ipython",
    "version": 3
   },
   "file_extension": ".py",
   "mimetype": "text/x-python",
   "name": "python",
   "nbconvert_exporter": "python",
   "pygments_lexer": "ipython3",
   "version": "3.9.7"
  }
 },
 "nbformat": 4,
 "nbformat_minor": 5
}
